{
 "cells": [
  {
   "cell_type": "markdown",
   "id": "b650145e",
   "metadata": {},
   "source": [
    "# 样例数据"
   ]
  },
  {
   "cell_type": "code",
   "execution_count": 46,
   "id": "b88e8b21",
   "metadata": {},
   "outputs": [],
   "source": [
    "import re     \n",
    "import jieba \n",
    "import os\n",
    "import nltk\n",
    "import pandas as pd    \n",
    "import numpy as np \n",
    "from nltk import pos_tag\n",
    "from nltk.util import ngrams\n",
    "from tqdm.notebook import tqdm\n",
    "import matplotlib.pyplot as plt     \n",
    "from gensim.models import Word2Vec    \n",
    "# import gensim.downloader as api     # 导入云端的已训练好的词向量\n",
    "from gensim.models import KeyedVectors # 加载自己本地个性化的已训练好的词向量\n",
    "from nltk.corpus import stopwords\n",
    "from nltk.tokenize import word_tokenize\n",
    "from nltk.stem import WordNetLemmatizer\n",
    "from sklearn.metrics.pairwise import cosine_similarity     # 计算向量之间的余弦相似度\n",
    "from sklearn.decomposition import PCA     # 语义空间降维，用于展示词语在二维空间的相对位置"
   ]
  },
  {
   "cell_type": "markdown",
   "id": "bfa1f8e0",
   "metadata": {},
   "source": [
    "## 加载数据"
   ]
  },
  {
   "cell_type": "code",
   "execution_count": 3,
   "id": "313e5df4",
   "metadata": {},
   "outputs": [
    {
     "data": {
      "text/html": [
       "<div>\n",
       "<style scoped>\n",
       "    .dataframe tbody tr th:only-of-type {\n",
       "        vertical-align: middle;\n",
       "    }\n",
       "\n",
       "    .dataframe tbody tr th {\n",
       "        vertical-align: top;\n",
       "    }\n",
       "\n",
       "    .dataframe thead th {\n",
       "        text-align: right;\n",
       "    }\n",
       "</style>\n",
       "<table border=\"1\" class=\"dataframe\">\n",
       "  <thead>\n",
       "    <tr style=\"text-align: right;\">\n",
       "      <th></th>\n",
       "      <th>index</th>\n",
       "      <th>商品名称</th>\n",
       "      <th>商品类别</th>\n",
       "      <th>出版年</th>\n",
       "      <th>广告文本</th>\n",
       "      <th>广告标题</th>\n",
       "    </tr>\n",
       "  </thead>\n",
       "  <tbody>\n",
       "    <tr>\n",
       "      <th>0</th>\n",
       "      <td>1596</td>\n",
       "      <td>五华牌香烟[May Blossom]</td>\n",
       "      <td>烟草制品</td>\n",
       "      <td>1932</td>\n",
       "      <td>兰勃脱白脱勒公司 五华牌香烟 佛及尼埃香烟  二十枝装每包售国币大洋二角 五十枝装每罐售国币...</td>\n",
       "      <td>五华牌香烟,\"兰勃脱白脱勒公司 五华牌香烟 佛及尼埃香烟\"</td>\n",
       "    </tr>\n",
       "    <tr>\n",
       "      <th>1</th>\n",
       "      <td>5627</td>\n",
       "      <td>韦廉士红色清导丸[Dr.Willams' Pink Pills For Pale People]</td>\n",
       "      <td>药品</td>\n",
       "      <td>1918</td>\n",
       "      <td>讲求卫生为人生本性天理固然也 人生首贵逐日大便通畅有序为天然所当如此也如若大便不利大肠阻塞则...</td>\n",
       "      <td>韦廉士红色清导丸:'讲求卫生为人生本性天理固然也'</td>\n",
       "    </tr>\n",
       "    <tr>\n",
       "      <th>2</th>\n",
       "      <td>13532</td>\n",
       "      <td>大炮台香烟[Three Castles Cigarettes]</td>\n",
       "      <td>烟草制品</td>\n",
       "      <td>1935</td>\n",
       "      <td>香味馥郁,不让名花 另有三炮台出售</td>\n",
       "      <td>大炮台香烟,\"香味馥郁 不让名花\"</td>\n",
       "    </tr>\n",
       "    <tr>\n",
       "      <th>3</th>\n",
       "      <td>1133</td>\n",
       "      <td>婴孩自己药片[Baby's Own]</td>\n",
       "      <td>药品</td>\n",
       "      <td>1930</td>\n",
       "      <td>差肩儿女 秀慧康强 闽有佳音讃羡婴孩自己药片 每年此际小儿患肠胃病者甚多而尤以南方各地天气翳...</td>\n",
       "      <td>婴孩自己药片,\"差肩儿女 秀慧康强 闽有佳音赞美婴孩自己药片\"</td>\n",
       "    </tr>\n",
       "    <tr>\n",
       "      <th>4</th>\n",
       "      <td>3146</td>\n",
       "      <td>亚士北罗药片[Aspro]</td>\n",
       "      <td>药品</td>\n",
       "      <td>1933</td>\n",
       "      <td>何以亚士北罗是妇女们的腻友？各国妇女力证亚士北罗药片是她们最需要的药物！为什么？她们的经验知...</td>\n",
       "      <td>亚士北罗药片,\"妇女之腻友\"</td>\n",
       "    </tr>\n",
       "  </tbody>\n",
       "</table>\n",
       "</div>"
      ],
      "text/plain": [
       "   index                                              商品名称  商品类别   出版年  \\\n",
       "0   1596                                五华牌香烟[May Blossom]  烟草制品  1932   \n",
       "1   5627  韦廉士红色清导丸[Dr.Willams' Pink Pills For Pale People]    药品  1918   \n",
       "2  13532                   大炮台香烟[Three Castles Cigarettes]  烟草制品  1935   \n",
       "3   1133                                婴孩自己药片[Baby's Own]    药品  1930   \n",
       "4   3146                                     亚士北罗药片[Aspro]    药品  1933   \n",
       "\n",
       "                                                广告文本  \\\n",
       "0  兰勃脱白脱勒公司 五华牌香烟 佛及尼埃香烟  二十枝装每包售国币大洋二角 五十枝装每罐售国币...   \n",
       "1  讲求卫生为人生本性天理固然也 人生首贵逐日大便通畅有序为天然所当如此也如若大便不利大肠阻塞则...   \n",
       "2                                  香味馥郁,不让名花 另有三炮台出售   \n",
       "3  差肩儿女 秀慧康强 闽有佳音讃羡婴孩自己药片 每年此际小儿患肠胃病者甚多而尤以南方各地天气翳...   \n",
       "4  何以亚士北罗是妇女们的腻友？各国妇女力证亚士北罗药片是她们最需要的药物！为什么？她们的经验知...   \n",
       "\n",
       "                              广告标题  \n",
       "0    五华牌香烟,\"兰勃脱白脱勒公司 五华牌香烟 佛及尼埃香烟\"  \n",
       "1        韦廉士红色清导丸:'讲求卫生为人生本性天理固然也'  \n",
       "2                大炮台香烟,\"香味馥郁 不让名花\"  \n",
       "3  婴孩自己药片,\"差肩儿女 秀慧康强 闽有佳音赞美婴孩自己药片\"  \n",
       "4                   亚士北罗药片,\"妇女之腻友\"  "
      ]
     },
     "execution_count": 3,
     "metadata": {},
     "output_type": "execute_result"
    }
   ],
   "source": [
    "df = pd.read_excel(r'C:\\Users\\Administrator\\Desktop\\词嵌入作业\\text_analysis_ad.xlsx', index_col = 0)\n",
    "df.head()"
   ]
  },
  {
   "cell_type": "markdown",
   "id": "dbb5fa56",
   "metadata": {},
   "source": [
    "## 预处理"
   ]
  },
  {
   "cell_type": "code",
   "execution_count": 7,
   "id": "26a2085c",
   "metadata": {},
   "outputs": [],
   "source": [
    "# 数据预处理\n",
    "def data_preprocess(text):\n",
    "    # 剔除符号与数字\n",
    "    nonums_text = re.sub('[^\\u4e00-\\u9fa5]+', '', str(text))\n",
    "        \n",
    "    # 分词\n",
    "    words = jieba.cut(nonums_text)\n",
    "    \n",
    "    # 去除停用词\n",
    "    words = [w for w in words if w not in list(stopwords) and w!='\\u200b']\n",
    "    \n",
    "    return ' '.join(words)\n",
    "\n",
    "# 下载\n",
    "stopwords = open(r'C:\\Users\\Administrator\\Desktop\\词嵌入作业\\stopwords.txt', encoding = 'utf-8').read()\n",
    "df['clean_text'] = df['广告文本'].apply(data_preprocess)"
   ]
  },
  {
   "cell_type": "code",
   "execution_count": 8,
   "id": "2299604f",
   "metadata": {},
   "outputs": [
    {
     "data": {
      "text/html": [
       "<div>\n",
       "<style scoped>\n",
       "    .dataframe tbody tr th:only-of-type {\n",
       "        vertical-align: middle;\n",
       "    }\n",
       "\n",
       "    .dataframe tbody tr th {\n",
       "        vertical-align: top;\n",
       "    }\n",
       "\n",
       "    .dataframe thead th {\n",
       "        text-align: right;\n",
       "    }\n",
       "</style>\n",
       "<table border=\"1\" class=\"dataframe\">\n",
       "  <thead>\n",
       "    <tr style=\"text-align: right;\">\n",
       "      <th></th>\n",
       "      <th>index</th>\n",
       "      <th>商品名称</th>\n",
       "      <th>商品类别</th>\n",
       "      <th>出版年</th>\n",
       "      <th>广告文本</th>\n",
       "      <th>广告标题</th>\n",
       "      <th>clean_text</th>\n",
       "    </tr>\n",
       "  </thead>\n",
       "  <tbody>\n",
       "    <tr>\n",
       "      <th>0</th>\n",
       "      <td>1596</td>\n",
       "      <td>五华牌香烟[May Blossom]</td>\n",
       "      <td>烟草制品</td>\n",
       "      <td>1932</td>\n",
       "      <td>兰勃脱白脱勒公司 五华牌香烟 佛及尼埃香烟  二十枝装每包售国币大洋二角 五十枝装每罐售国币...</td>\n",
       "      <td>五华牌香烟,\"兰勃脱白脱勒公司 五华牌香烟 佛及尼埃香烟\"</td>\n",
       "      <td>兰勃 脱白 脱勒 公司 五华 牌 香烟 佛及 尼埃 香烟 二十 枝装 每包 售 国币 大洋 ...</td>\n",
       "    </tr>\n",
       "    <tr>\n",
       "      <th>1</th>\n",
       "      <td>5627</td>\n",
       "      <td>韦廉士红色清导丸[Dr.Willams' Pink Pills For Pale People]</td>\n",
       "      <td>药品</td>\n",
       "      <td>1918</td>\n",
       "      <td>讲求卫生为人生本性天理固然也 人生首贵逐日大便通畅有序为天然所当如此也如若大便不利大肠阻塞则...</td>\n",
       "      <td>韦廉士红色清导丸:'讲求卫生为人生本性天理固然也'</td>\n",
       "      <td>讲求 卫生 人生 本性 天理 固然 人生 首贵 逐日 大便 通畅 有序 天然 所当 如此 如...</td>\n",
       "    </tr>\n",
       "    <tr>\n",
       "      <th>2</th>\n",
       "      <td>13532</td>\n",
       "      <td>大炮台香烟[Three Castles Cigarettes]</td>\n",
       "      <td>烟草制品</td>\n",
       "      <td>1935</td>\n",
       "      <td>香味馥郁,不让名花 另有三炮台出售</td>\n",
       "      <td>大炮台香烟,\"香味馥郁 不让名花\"</td>\n",
       "      <td>香味 馥郁 不让 名花 炮台 出售</td>\n",
       "    </tr>\n",
       "    <tr>\n",
       "      <th>3</th>\n",
       "      <td>1133</td>\n",
       "      <td>婴孩自己药片[Baby's Own]</td>\n",
       "      <td>药品</td>\n",
       "      <td>1930</td>\n",
       "      <td>差肩儿女 秀慧康强 闽有佳音讃羡婴孩自己药片 每年此际小儿患肠胃病者甚多而尤以南方各地天气翳...</td>\n",
       "      <td>婴孩自己药片,\"差肩儿女 秀慧康强 闽有佳音赞美婴孩自己药片\"</td>\n",
       "      <td>差肩 儿女 秀慧 康强 闽有 佳音 讃 羡 婴孩 自己 药片 每年 此际 小儿 患 肠胃病 ...</td>\n",
       "    </tr>\n",
       "    <tr>\n",
       "      <th>4</th>\n",
       "      <td>3146</td>\n",
       "      <td>亚士北罗药片[Aspro]</td>\n",
       "      <td>药品</td>\n",
       "      <td>1933</td>\n",
       "      <td>何以亚士北罗是妇女们的腻友？各国妇女力证亚士北罗药片是她们最需要的药物！为什么？她们的经验知...</td>\n",
       "      <td>亚士北罗药片,\"妇女之腻友\"</td>\n",
       "      <td>何以 亚士 北罗 妇女 腻友 各国 妇女 力证 亚士 北罗 药片 她们 需要 药物 为什么 ...</td>\n",
       "    </tr>\n",
       "    <tr>\n",
       "      <th>...</th>\n",
       "      <td>...</td>\n",
       "      <td>...</td>\n",
       "      <td>...</td>\n",
       "      <td>...</td>\n",
       "      <td>...</td>\n",
       "      <td>...</td>\n",
       "      <td>...</td>\n",
       "    </tr>\n",
       "    <tr>\n",
       "      <th>495</th>\n",
       "      <td>14176</td>\n",
       "      <td>安住蚊烟香</td>\n",
       "      <td>化肥及杀虫剂</td>\n",
       "      <td>1935</td>\n",
       "      <td>安住蚊烟香 臭虫立毙药粉 世界第一名产 安住蚊烟香 蚊见逃慌慌 暑夜不用帐 包睡到天光 汉口...</td>\n",
       "      <td>安住蚊烟香,\"世界第一名产\"</td>\n",
       "      <td>安住 蚊烟香 臭虫 立毙 药粉 世界 第一名 产安住 蚊烟香 蚊见 逃 慌慌 暑夜 不用 帐...</td>\n",
       "    </tr>\n",
       "    <tr>\n",
       "      <th>496</th>\n",
       "      <td>11610</td>\n",
       "      <td>第威德润肠丸[DeWitt's]</td>\n",
       "      <td>药品</td>\n",
       "      <td>1934</td>\n",
       "      <td>眉色清秀 气色壮旺 此第威德润肠丸之功也 第威德润肠丸系以草药炼制纯粹和平十分安全功能清理肠...</td>\n",
       "      <td>第威德润肠丸,\"眉色清秀 气色壮旺\"</td>\n",
       "      <td>眉色 清秀 气色 壮旺此 威德 润肠 丸 之功 威德 润肠 丸系 草药 炼制 纯粹 和平 十...</td>\n",
       "    </tr>\n",
       "    <tr>\n",
       "      <th>497</th>\n",
       "      <td>10256</td>\n",
       "      <td>如意膏[She-Ko]</td>\n",
       "      <td>药品</td>\n",
       "      <td>1934</td>\n",
       "      <td>汤火烫伤 立攃如意膏可免严重之后果 皮肤受伤当以灼烫最痛苦其又因此震激而致命者治疗灼烫止痛消...</td>\n",
       "      <td>如意膏,\"汤火烫伤 立攃如意膏可免严重之后果\"</td>\n",
       "      <td>汤火 烫伤 攃 如意 膏 可免 严重 后果 皮肤 受伤 当以 灼烫 痛苦 因此 震激 致命 ...</td>\n",
       "    </tr>\n",
       "    <tr>\n",
       "      <th>498</th>\n",
       "      <td>9176</td>\n",
       "      <td>六零六药膏</td>\n",
       "      <td>药品</td>\n",
       "      <td>1923</td>\n",
       "      <td>清血解毒六零六 花柳梅毒瘰*疮疖癣疥**及筋骨酸痛四肢麻木半身疯*等症状虽异其发生之原理莫不...</td>\n",
       "      <td>六零六,\"清血解毒六零六\"</td>\n",
       "      <td>清血 解毒 六零 花柳 梅毒 瘰疮 疖 癣疥 筋骨 酸痛 四肢 麻木 半身 疯 症状 虽异 ...</td>\n",
       "    </tr>\n",
       "    <tr>\n",
       "      <th>499</th>\n",
       "      <td>6411</td>\n",
       "      <td>三炮台烟[The Three Caftles Cigarettes]</td>\n",
       "      <td>烟草制品</td>\n",
       "      <td>1919</td>\n",
       "      <td>三炮台香烟,'到底是好 三炮台 好香烟 敬宾客 美观瞻 市中日日新牌见 到底不如老牌烟 名不虚传</td>\n",
       "      <td>三炮台香烟,\"到底是好 三炮台 名不虚传\"</td>\n",
       "      <td>炮台 香烟 到底 炮台 香烟 敬 宾客 美 观瞻 市 中日 日新牌 到底 不如 老牌 烟 名不虚传</td>\n",
       "    </tr>\n",
       "  </tbody>\n",
       "</table>\n",
       "<p>500 rows × 7 columns</p>\n",
       "</div>"
      ],
      "text/plain": [
       "     index                                              商品名称    商品类别   出版年  \\\n",
       "0     1596                                五华牌香烟[May Blossom]    烟草制品  1932   \n",
       "1     5627  韦廉士红色清导丸[Dr.Willams' Pink Pills For Pale People]      药品  1918   \n",
       "2    13532                   大炮台香烟[Three Castles Cigarettes]    烟草制品  1935   \n",
       "3     1133                                婴孩自己药片[Baby's Own]      药品  1930   \n",
       "4     3146                                     亚士北罗药片[Aspro]      药品  1933   \n",
       "..     ...                                               ...     ...   ...   \n",
       "495  14176                                             安住蚊烟香  化肥及杀虫剂  1935   \n",
       "496  11610                                  第威德润肠丸[DeWitt's]      药品  1934   \n",
       "497  10256                                       如意膏[She-Ko]      药品  1934   \n",
       "498   9176                                             六零六药膏      药品  1923   \n",
       "499   6411                三炮台烟[The Three Caftles Cigarettes]    烟草制品  1919   \n",
       "\n",
       "                                                  广告文本  \\\n",
       "0    兰勃脱白脱勒公司 五华牌香烟 佛及尼埃香烟  二十枝装每包售国币大洋二角 五十枝装每罐售国币...   \n",
       "1    讲求卫生为人生本性天理固然也 人生首贵逐日大便通畅有序为天然所当如此也如若大便不利大肠阻塞则...   \n",
       "2                                    香味馥郁,不让名花 另有三炮台出售   \n",
       "3    差肩儿女 秀慧康强 闽有佳音讃羡婴孩自己药片 每年此际小儿患肠胃病者甚多而尤以南方各地天气翳...   \n",
       "4    何以亚士北罗是妇女们的腻友？各国妇女力证亚士北罗药片是她们最需要的药物！为什么？她们的经验知...   \n",
       "..                                                 ...   \n",
       "495  安住蚊烟香 臭虫立毙药粉 世界第一名产 安住蚊烟香 蚊见逃慌慌 暑夜不用帐 包睡到天光 汉口...   \n",
       "496  眉色清秀 气色壮旺 此第威德润肠丸之功也 第威德润肠丸系以草药炼制纯粹和平十分安全功能清理肠...   \n",
       "497  汤火烫伤 立攃如意膏可免严重之后果 皮肤受伤当以灼烫最痛苦其又因此震激而致命者治疗灼烫止痛消...   \n",
       "498  清血解毒六零六 花柳梅毒瘰*疮疖癣疥**及筋骨酸痛四肢麻木半身疯*等症状虽异其发生之原理莫不...   \n",
       "499   三炮台香烟,'到底是好 三炮台 好香烟 敬宾客 美观瞻 市中日日新牌见 到底不如老牌烟 名不虚传   \n",
       "\n",
       "                                广告标题  \\\n",
       "0      五华牌香烟,\"兰勃脱白脱勒公司 五华牌香烟 佛及尼埃香烟\"   \n",
       "1          韦廉士红色清导丸:'讲求卫生为人生本性天理固然也'   \n",
       "2                  大炮台香烟,\"香味馥郁 不让名花\"   \n",
       "3    婴孩自己药片,\"差肩儿女 秀慧康强 闽有佳音赞美婴孩自己药片\"   \n",
       "4                     亚士北罗药片,\"妇女之腻友\"   \n",
       "..                               ...   \n",
       "495                   安住蚊烟香,\"世界第一名产\"   \n",
       "496               第威德润肠丸,\"眉色清秀 气色壮旺\"   \n",
       "497          如意膏,\"汤火烫伤 立攃如意膏可免严重之后果\"   \n",
       "498                    六零六,\"清血解毒六零六\"   \n",
       "499            三炮台香烟,\"到底是好 三炮台 名不虚传\"   \n",
       "\n",
       "                                            clean_text  \n",
       "0    兰勃 脱白 脱勒 公司 五华 牌 香烟 佛及 尼埃 香烟 二十 枝装 每包 售 国币 大洋 ...  \n",
       "1    讲求 卫生 人生 本性 天理 固然 人生 首贵 逐日 大便 通畅 有序 天然 所当 如此 如...  \n",
       "2                                    香味 馥郁 不让 名花 炮台 出售  \n",
       "3    差肩 儿女 秀慧 康强 闽有 佳音 讃 羡 婴孩 自己 药片 每年 此际 小儿 患 肠胃病 ...  \n",
       "4    何以 亚士 北罗 妇女 腻友 各国 妇女 力证 亚士 北罗 药片 她们 需要 药物 为什么 ...  \n",
       "..                                                 ...  \n",
       "495  安住 蚊烟香 臭虫 立毙 药粉 世界 第一名 产安住 蚊烟香 蚊见 逃 慌慌 暑夜 不用 帐...  \n",
       "496  眉色 清秀 气色 壮旺此 威德 润肠 丸 之功 威德 润肠 丸系 草药 炼制 纯粹 和平 十...  \n",
       "497  汤火 烫伤 攃 如意 膏 可免 严重 后果 皮肤 受伤 当以 灼烫 痛苦 因此 震激 致命 ...  \n",
       "498  清血 解毒 六零 花柳 梅毒 瘰疮 疖 癣疥 筋骨 酸痛 四肢 麻木 半身 疯 症状 虽异 ...  \n",
       "499  炮台 香烟 到底 炮台 香烟 敬 宾客 美 观瞻 市 中日 日新牌 到底 不如 老牌 烟 名不虚传  \n",
       "\n",
       "[500 rows x 7 columns]"
      ]
     },
     "execution_count": 8,
     "metadata": {},
     "output_type": "execute_result"
    }
   ],
   "source": [
    "df"
   ]
  },
  {
   "cell_type": "markdown",
   "id": "7a0788f6",
   "metadata": {},
   "source": [
    "## 训练词嵌入模型"
   ]
  },
  {
   "cell_type": "code",
   "execution_count": 15,
   "id": "9f85d805",
   "metadata": {},
   "outputs": [
    {
     "name": "stdout",
     "output_type": "stream",
     "text": [
      "['兰勃', '脱白', '脱勒', '公司', '五华', '牌', '香烟', '佛及', '尼埃', '香烟', '二十', '枝装', '每包', '售', '国币', '大洋', '二角', '五十', '枝装', '每罐', '售', '国币', '大洋', '五角']\n",
      "['讲求', '卫生', '人生', '本性', '天理', '固然', '人生', '首贵', '逐日', '大便', '通畅', '有序', '天然', '所当', '如此', '如若', '大便', '不利', '肠阻塞', '胃失', '消化', '疾病', '头痛', '肝火', '上升', '胆汁', '口气', '积浊', '舌现', '黄苔', '诸恙', '接踵', '凡', '此皆须', '服用', '韦廉士', '医生', '红色', '清导丸', '以利', '大便', '俾得', '体质', '强健', '百病', '不侵', '也况', '此丸', '功力', '天然', '平和', '不尚', '霸烈', '广东省', '城', '医生', '学', '研究会', '先生', '来示', '云弟', '患大', '便秘', '结之症', '一月', '有余', '困苦', '万状', '难以', '言喻', '服用', '韦廉士', '红色', '清导丸', '数粒', '大便', '畅达', '于是', '常为', '服用', '身体', '爽健为', '半生', '以来', '未有', '尊处', '无从', '购买', '韦廉士', '红色', '清导丸', '祈即', '邮票', '大洋', '六角', '上海', '四川', '路', '九十六', '号', '韦廉士', '医生', '药局', '原班', '邮奉', '一瓶']\n",
      "['香味', '馥郁', '不让', '名花', '炮台', '出售']\n"
     ]
    }
   ],
   "source": [
    "# 准备训练语料库\n",
    "corpus = df['clean_text'].apply(lambda x: x.split(' ')).tolist()\n",
    "for item in corpus[:3]:\n",
    "    print(item)"
   ]
  },
  {
   "cell_type": "code",
   "execution_count": 16,
   "id": "852fd83e",
   "metadata": {},
   "outputs": [],
   "source": [
    "# 训练\n",
    "model = Word2Vec(\n",
    "    corpus,    \n",
    "    window = 5,     \n",
    "    vector_size = 100,    \n",
    "    min_count = 1,     \n",
    "    epochs = 10\n",
    ")\n",
    "\n",
    "# 保存训练好的模型\n",
    "model.save('word2vec_ad.model')"
   ]
  },
  {
   "cell_type": "code",
   "execution_count": 20,
   "id": "50525888",
   "metadata": {},
   "outputs": [
    {
     "data": {
      "text/plain": [
       "9610"
      ]
     },
     "execution_count": 20,
     "metadata": {},
     "output_type": "execute_result"
    }
   ],
   "source": [
    "# 简单查看词汇表和词向量\n",
    "word_list = model.wv.index_to_key \n",
    "len(word_list)"
   ]
  },
  {
   "cell_type": "code",
   "execution_count": 23,
   "id": "cc11cf58",
   "metadata": {},
   "outputs": [],
   "source": [
    "word_vectors = model.wv[word_list]\n",
    "# word_vectors"
   ]
  },
  {
   "cell_type": "code",
   "execution_count": 24,
   "id": "e8f6b32a",
   "metadata": {},
   "outputs": [
    {
     "name": "stdout",
     "output_type": "stream",
     "text": [
      "0.6743863\n",
      "0.99331915\n"
     ]
    }
   ],
   "source": [
    "# 计算模型中两个词之间的余弦相似性\n",
    "print(model.wv.similarity('医生', '卫生'))\n",
    "print(model.wv.similarity('疼痛', '神经'))"
   ]
  },
  {
   "cell_type": "code",
   "execution_count": 25,
   "id": "dfb928d8",
   "metadata": {},
   "outputs": [
    {
     "name": "stdout",
     "output_type": "stream",
     "text": [
      "[('韦廉士', 0.9955029487609863), ('药局', 0.9807550311088562), ('一号', 0.972586452960968), ('红色', 0.965548038482666), ('定价', 0.9648661017417908)]\n"
     ]
    }
   ],
   "source": [
    "# 计算一个词在模型中与这个词最相近的词。\n",
    "most_similar_words = model.wv.most_similar('医生', topn=5)\n",
    "print(most_similar_words)"
   ]
  },
  {
   "cell_type": "markdown",
   "id": "377d4971",
   "metadata": {},
   "source": [
    "## 可视化"
   ]
  },
  {
   "cell_type": "code",
   "execution_count": 28,
   "id": "6060833a",
   "metadata": {},
   "outputs": [
    {
     "data": {
      "text/plain": [
       "array([-0.9147408 ,  1.2112402 ,  0.54491246,  0.81133807, -1.230619  ,\n",
       "       -0.9506701 ,  0.2393207 ,  1.501963  , -1.1551563 , -0.586017  ,\n",
       "       -0.10914683, -1.0554574 , -0.16861883,  0.72466415,  0.10479065,\n",
       "       -0.26219982,  1.6910211 , -0.60178983, -0.36420578, -2.4262266 ,\n",
       "        0.11908425,  0.56545067,  1.1504486 , -0.46105674,  0.12358102,\n",
       "        0.6785319 , -1.6451132 , -0.3809652 , -0.6340201 ,  0.8504238 ,\n",
       "        1.3953846 , -0.41685513,  1.5196522 , -0.90092105, -0.69217706,\n",
       "        0.7004891 , -0.18934081, -0.41727623, -0.2546648 , -0.9631949 ,\n",
       "        0.40406382, -0.59658355, -0.9674991 ,  0.92322326,  0.40477434,\n",
       "       -0.9727549 , -0.55913407, -0.55404586,  0.24901134,  0.6387386 ,\n",
       "        0.5562094 , -0.50535053, -0.98554236,  0.23112024, -0.47010922,\n",
       "        0.0455104 ,  0.4672912 , -0.36169285, -0.4800164 ,  0.20367189,\n",
       "        0.19835114,  0.43482202,  0.14299656,  0.01861222, -0.7773677 ,\n",
       "        1.1145357 , -0.10565479, -0.07744911, -1.2582309 ,  0.89702404,\n",
       "       -0.4162572 ,  1.0530196 ,  0.38995808, -0.44827726,  1.3511308 ,\n",
       "        0.4074505 ,  0.02688328,  0.93788207, -0.21210587,  0.09320619,\n",
       "       -1.0551398 , -0.17995773,  0.5534388 ,  1.0826752 , -0.45058253,\n",
       "       -0.3196591 ,  0.7096899 ,  0.69670045,  0.74720514,  0.39402103,\n",
       "        1.0668743 ,  0.32710782, -0.15071663,  0.0896567 ,  0.9146886 ,\n",
       "       -0.14283045,  0.61270916, -0.09636261, -0.208498  ,  0.7223862 ],\n",
       "      dtype=float32)"
      ]
     },
     "execution_count": 28,
     "metadata": {},
     "output_type": "execute_result"
    }
   ],
   "source": [
    "words = ['医生', '疼痛', '神经', '伤风']\n",
    "model.wv[\"医生\"]"
   ]
  },
  {
   "cell_type": "code",
   "execution_count": 32,
   "id": "3198e42b",
   "metadata": {},
   "outputs": [
    {
     "data": {
      "image/png": "[encoded data removed]",
      "text/plain": [
       "<Figure size 640x480 with 1 Axes>"
      ]
     },
     "metadata": {},
     "output_type": "display_data"
    }
   ],
   "source": [
    "# 可视化\n",
    "vectors = [model.wv[word] for word in words]\n",
    "\n",
    "# 使用PCA进行降维\n",
    "pca = PCA(n_components = 2)\n",
    "pca_result = pca.fit_transform(vectors)\n",
    "\n",
    "# 画图前准备，字体、负号处理以及画图窗口\n",
    "plt.rcParams['font.sans-serif'] = ['SimHei']\n",
    "plt.rcParams['axes.unicode_minus'] = False\n",
    "plt.figure()\n",
    "\n",
    "# 取PCA降维结果中所有行的第一列和第二列数据绘制散点图，设置点的大小为50\n",
    "plt.scatter(pca_result[:, 0], pca_result[:, 1], s = 50)\n",
    "\n",
    "# 注释\n",
    "for i, word in enumerate(words):\n",
    "    plt.annotate(word, (pca_result[i, 0], pca_result[i, 1]), fontsize = 10)\n",
    "\n",
    "plt.xlabel('PCA维度1', fontsize = 20)\n",
    "plt.ylabel('PCA维度2', fontsize = 20)\n",
    "plt.title('二维语义空间中词语的分布', fontsize = 20)\n",
    "plt.grid(True)\n",
    "plt.show()"
   ]
  },
  {
   "cell_type": "markdown",
   "id": "b6428e4b",
   "metadata": {},
   "source": [
    "# 个人语料库（美国故事数据集切片）"
   ]
  },
  {
   "cell_type": "markdown",
   "id": "69370507",
   "metadata": {},
   "source": [
    "## 准备数据"
   ]
  },
  {
   "cell_type": "code",
   "execution_count": 60,
   "id": "69941209",
   "metadata": {},
   "outputs": [
    {
     "data": {
      "application/vnd.jupyter.widget-view+json": {
       "model_id": "0fff510b417b405bb19868aad6b4c07f",
       "version_major": 2,
       "version_minor": 0
      },
      "text/plain": [
       "  0%|          | 0/21 [00:00<?, ?it/s]"
      ]
     },
     "metadata": {},
     "output_type": "display_data"
    }
   ],
   "source": [
    "all_folder = r\"D:\\American Stories\\American story csv 1920-1940\"\n",
    "data_frame = []\n",
    "for second_folder in tqdm(os.listdir(all_folder)):\n",
    "    path = os.path.join(all_folder,second_folder)\n",
    "    for file_name in os.listdir(path):\n",
    "        file_path = os.path.join(path,file_name)\n",
    "        df = pd.read_csv(file_path)\n",
    "        random_sample = df.sample(n=100)\n",
    "        data_frame.append(random_sample)\n",
    "data = pd.concat(data_frame,axis=0) "
   ]
  },
  {
   "cell_type": "code",
   "execution_count": 42,
   "id": "7f6ea923",
   "metadata": {},
   "outputs": [],
   "source": [
    "data_write = data.to_csv(\"American_story_sample_100.csv\",index = False)"
   ]
  },
  {
   "cell_type": "markdown",
   "id": "854c480e",
   "metadata": {},
   "source": [
    "## 加载数据"
   ]
  },
  {
   "cell_type": "code",
   "execution_count": 45,
   "id": "b73d0219",
   "metadata": {},
   "outputs": [
    {
     "data": {
      "text/html": [
       "<div>\n",
       "<style scoped>\n",
       "    .dataframe tbody tr th:only-of-type {\n",
       "        vertical-align: middle;\n",
       "    }\n",
       "\n",
       "    .dataframe tbody tr th {\n",
       "        vertical-align: top;\n",
       "    }\n",
       "\n",
       "    .dataframe thead th {\n",
       "        text-align: right;\n",
       "    }\n",
       "</style>\n",
       "<table border=\"1\" class=\"dataframe\">\n",
       "  <thead>\n",
       "    <tr style=\"text-align: right;\">\n",
       "      <th></th>\n",
       "      <th>Article_id</th>\n",
       "      <th>Date</th>\n",
       "      <th>Page_number</th>\n",
       "      <th>Newspaper_name</th>\n",
       "      <th>Headline</th>\n",
       "      <th>Author</th>\n",
       "      <th>Article_body</th>\n",
       "    </tr>\n",
       "  </thead>\n",
       "  <tbody>\n",
       "    <tr>\n",
       "      <th>0</th>\n",
       "      <td>4_1920-01-09_p1_sn99062049_00415624992_1920010...</td>\n",
       "      <td>1920-01-09</td>\n",
       "      <td>p1</td>\n",
       "      <td>NaN</td>\n",
       "      <td>Presbyterian ChurchDemobilizes Service Flag</td>\n",
       "      <td>NaN</td>\n",
       "      <td>The services at the PresbyterianChurch Sunday ...</td>\n",
       "    </tr>\n",
       "    <tr>\n",
       "      <th>1</th>\n",
       "      <td>23_1920-01-05_p1_sn91066782_00415627932_192001...</td>\n",
       "      <td>1920-01-05</td>\n",
       "      <td>p1</td>\n",
       "      <td>NaN</td>\n",
       "      <td>Lumber Exports VS.. Production.</td>\n",
       "      <td>NaN</td>\n",
       "      <td>Only Al per, cent of the total lum.ber product...</td>\n",
       "    </tr>\n",
       "    <tr>\n",
       "      <th>2</th>\n",
       "      <td>16_1920-01-09_p1_sn86063730_00332894857_192001...</td>\n",
       "      <td>1920-01-09</td>\n",
       "      <td>p1</td>\n",
       "      <td>NaN</td>\n",
       "      <td>WILSON AND BRYANfUIESSAGESSURPRISES OF JACKSON...</td>\n",
       "      <td>NaN</td>\n",
       "      <td>with Germany. was thus disclosed asa fact, alt...</td>\n",
       "    </tr>\n",
       "    <tr>\n",
       "      <th>3</th>\n",
       "      <td>14_1920-01-24_p7_sn83025514_00340586384_192001...</td>\n",
       "      <td>1920-01-24</td>\n",
       "      <td>p7</td>\n",
       "      <td>The Colorado statesman.</td>\n",
       "      <td>NaN</td>\n",
       "      <td>NaN</td>\n",
       "      <td>Apple Snow.-Pare and quarter tartapples. add b...</td>\n",
       "    </tr>\n",
       "    <tr>\n",
       "      <th>4</th>\n",
       "      <td>40_1920-01-03_p4_sn83025458_00414217370_192001...</td>\n",
       "      <td>1920-01-03</td>\n",
       "      <td>p4</td>\n",
       "      <td>The daily morning oasis.</td>\n",
       "      <td>NaN</td>\n",
       "      <td>NaN</td>\n",
       "      <td>Mr.. A. Ybarra, counsel for theSouthern Pacifi...</td>\n",
       "    </tr>\n",
       "  </tbody>\n",
       "</table>\n",
       "</div>"
      ],
      "text/plain": [
       "                                          Article_id        Date Page_number  \\\n",
       "0  4_1920-01-09_p1_sn99062049_00415624992_1920010...  1920-01-09          p1   \n",
       "1  23_1920-01-05_p1_sn91066782_00415627932_192001...  1920-01-05          p1   \n",
       "2  16_1920-01-09_p1_sn86063730_00332894857_192001...  1920-01-09          p1   \n",
       "3  14_1920-01-24_p7_sn83025514_00340586384_192001...  1920-01-24          p7   \n",
       "4  40_1920-01-03_p4_sn83025458_00414217370_192001...  1920-01-03          p4   \n",
       "\n",
       "             Newspaper_name  \\\n",
       "0                       NaN   \n",
       "1                       NaN   \n",
       "2                       NaN   \n",
       "3   The Colorado statesman.   \n",
       "4  The daily morning oasis.   \n",
       "\n",
       "                                            Headline Author  \\\n",
       "0        Presbyterian ChurchDemobilizes Service Flag    NaN   \n",
       "1                    Lumber Exports VS.. Production.    NaN   \n",
       "2  WILSON AND BRYANfUIESSAGESSURPRISES OF JACKSON...    NaN   \n",
       "3                                                NaN    NaN   \n",
       "4                                                NaN    NaN   \n",
       "\n",
       "                                        Article_body  \n",
       "0  The services at the PresbyterianChurch Sunday ...  \n",
       "1  Only Al per, cent of the total lum.ber product...  \n",
       "2  with Germany. was thus disclosed asa fact, alt...  \n",
       "3  Apple Snow.-Pare and quarter tartapples. add b...  \n",
       "4  Mr.. A. Ybarra, counsel for theSouthern Pacifi...  "
      ]
     },
     "execution_count": 45,
     "metadata": {},
     "output_type": "execute_result"
    }
   ],
   "source": [
    "df = pd.read_csv(r'D:\\American Stories\\American_story_sample_100.csv')\n",
    "df.head()"
   ]
  },
  {
   "cell_type": "markdown",
   "id": "6f383788",
   "metadata": {},
   "source": [
    "## 数据预处理"
   ]
  },
  {
   "cell_type": "code",
   "execution_count": 47,
   "id": "7d76a360",
   "metadata": {},
   "outputs": [
    {
     "name": "stderr",
     "output_type": "stream",
     "text": [
      "[nltk_data] Downloading package punkt to\n",
      "[nltk_data]     C:\\Users\\Administrator\\AppData\\Roaming\\nltk_data...\n",
      "[nltk_data]   Package punkt is already up-to-date!\n",
      "[nltk_data] Downloading package stopwords to\n",
      "[nltk_data]     C:\\Users\\Administrator\\AppData\\Roaming\\nltk_data...\n",
      "[nltk_data]   Package stopwords is already up-to-date!\n",
      "[nltk_data] Downloading package wordnet to\n",
      "[nltk_data]     C:\\Users\\Administrator\\AppData\\Roaming\\nltk_data...\n",
      "[nltk_data]   Package wordnet is already up-to-date!\n",
      "[nltk_data] Downloading package averaged_perceptron_tagger to\n",
      "[nltk_data]     C:\\Users\\Administrator\\AppData\\Roaming\\nltk_data...\n",
      "[nltk_data]   Package averaged_perceptron_tagger is already up-to-\n",
      "[nltk_data]       date!\n"
     ]
    },
    {
     "data": {
      "text/plain": [
       "True"
      ]
     },
     "execution_count": 47,
     "metadata": {},
     "output_type": "execute_result"
    }
   ],
   "source": [
    "# 下载\n",
    "nltk.download('punkt')\n",
    "nltk.download('stopwords')\n",
    "nltk.download('wordnet')\n",
    "nltk.download('averaged_perceptron_tagger')"
   ]
  },
  {
   "cell_type": "code",
   "execution_count": 48,
   "id": "fa14fb7e",
   "metadata": {},
   "outputs": [],
   "source": [
    "## Data Cleaning and Text Processing.\n",
    "def preprocess_text(text):\n",
    "    # 小写\n",
    "    text = text.lower()\n",
    "    \n",
    "    # 分词\n",
    "    tokens = word_tokenize(text)\n",
    "    \n",
    "    # 去除停用词\n",
    "    stop_words = set(stopwords.words('english'))\n",
    "    filtered_tokens = [word for word in tokens if word not in stop_words]\n",
    "    \n",
    "    # 去除标点符号和数字 和其他一些字符\n",
    "    filtered_tokens = [word for word in filtered_tokens if word.isalpha() ]\n",
    "    #filtered_tokens = [word for word in filtered_tokens if word not in string.punctuation]\n",
    "    \n",
    "    # 词性标注与筛选\n",
    "    #pos_tags = pos_tag(filtered_tokens)\n",
    "    #selected_tokens = [word  for word, pos in pos_tags if pos.startswith('N') or pos.startswith('J') or pos.startswith('V')]\n",
    "    \n",
    "    # 词性还原\n",
    "    lemmatizer = WordNetLemmatizer()\n",
    "    lemmatized_tokens = [lemmatizer.lemmatize(word) for word in filtered_tokens]\n",
    "  \n",
    "    # 返回预处理后的文本\n",
    "    return ' '.join(lemmatized_tokens)\n",
    "\n",
    "\n",
    "# 定义函数将词性标签映射到 WordNet 词性标签\n",
    "# def get_wordnet_pos(treebank_tag):\n",
    "#     if treebank_tag.startswith('J'):\n",
    "#         return 'a'  # 形容词\n",
    "#     elif treebank_tag.startswith('V'):\n",
    "#         return 'v'  # 动词\n",
    "#     elif treebank_tag.startswith('N'):\n",
    "#         return 'n'  # 名词\n",
    "#     else:\n",
    "#         return None  # 默认为名词\n",
    "\n",
    "df['text_clean'] = df['Article_body'].apply(preprocess_text)    "
   ]
  },
  {
   "cell_type": "code",
   "execution_count": 49,
   "id": "610b484c",
   "metadata": {},
   "outputs": [
    {
     "data": {
      "text/html": [
       "<div>\n",
       "<style scoped>\n",
       "    .dataframe tbody tr th:only-of-type {\n",
       "        vertical-align: middle;\n",
       "    }\n",
       "\n",
       "    .dataframe tbody tr th {\n",
       "        vertical-align: top;\n",
       "    }\n",
       "\n",
       "    .dataframe thead th {\n",
       "        text-align: right;\n",
       "    }\n",
       "</style>\n",
       "<table border=\"1\" class=\"dataframe\">\n",
       "  <thead>\n",
       "    <tr style=\"text-align: right;\">\n",
       "      <th></th>\n",
       "      <th>Article_id</th>\n",
       "      <th>Date</th>\n",
       "      <th>Page_number</th>\n",
       "      <th>Newspaper_name</th>\n",
       "      <th>Headline</th>\n",
       "      <th>Author</th>\n",
       "      <th>Article_body</th>\n",
       "      <th>text_clean</th>\n",
       "    </tr>\n",
       "  </thead>\n",
       "  <tbody>\n",
       "    <tr>\n",
       "      <th>0</th>\n",
       "      <td>4_1920-01-09_p1_sn99062049_00415624992_1920010...</td>\n",
       "      <td>1920-01-09</td>\n",
       "      <td>p1</td>\n",
       "      <td>NaN</td>\n",
       "      <td>Presbyterian ChurchDemobilizes Service Flag</td>\n",
       "      <td>NaN</td>\n",
       "      <td>The services at the PresbyterianChurch Sunday ...</td>\n",
       "      <td>service presbyterianchurch sunday evening full...</td>\n",
       "    </tr>\n",
       "    <tr>\n",
       "      <th>1</th>\n",
       "      <td>23_1920-01-05_p1_sn91066782_00415627932_192001...</td>\n",
       "      <td>1920-01-05</td>\n",
       "      <td>p1</td>\n",
       "      <td>NaN</td>\n",
       "      <td>Lumber Exports VS.. Production.</td>\n",
       "      <td>NaN</td>\n",
       "      <td>Only Al per, cent of the total lum.ber product...</td>\n",
       "      <td>al per cent total production united stateswas ...</td>\n",
       "    </tr>\n",
       "    <tr>\n",
       "      <th>2</th>\n",
       "      <td>16_1920-01-09_p1_sn86063730_00332894857_192001...</td>\n",
       "      <td>1920-01-09</td>\n",
       "      <td>p1</td>\n",
       "      <td>NaN</td>\n",
       "      <td>WILSON AND BRYANfUIESSAGESSURPRISES OF JACKSON...</td>\n",
       "      <td>NaN</td>\n",
       "      <td>with Germany. was thus disclosed asa fact, alt...</td>\n",
       "      <td>germany thus disclosed asa fact although rumor...</td>\n",
       "    </tr>\n",
       "    <tr>\n",
       "      <th>3</th>\n",
       "      <td>14_1920-01-24_p7_sn83025514_00340586384_192001...</td>\n",
       "      <td>1920-01-24</td>\n",
       "      <td>p7</td>\n",
       "      <td>The Colorado statesman.</td>\n",
       "      <td>NaN</td>\n",
       "      <td>NaN</td>\n",
       "      <td>Apple Snow.-Pare and quarter tartapples. add b...</td>\n",
       "      <td>apple quarter tartapples add boiling water coo...</td>\n",
       "    </tr>\n",
       "    <tr>\n",
       "      <th>4</th>\n",
       "      <td>40_1920-01-03_p4_sn83025458_00414217370_192001...</td>\n",
       "      <td>1920-01-03</td>\n",
       "      <td>p4</td>\n",
       "      <td>The daily morning oasis.</td>\n",
       "      <td>NaN</td>\n",
       "      <td>NaN</td>\n",
       "      <td>Mr.. A. Ybarra, counsel for theSouthern Pacifi...</td>\n",
       "      <td>mr ybarra counsel thesouthern pacific mexico h...</td>\n",
       "    </tr>\n",
       "  </tbody>\n",
       "</table>\n",
       "</div>"
      ],
      "text/plain": [
       "                                          Article_id        Date Page_number  \\\n",
       "0  4_1920-01-09_p1_sn99062049_00415624992_1920010...  1920-01-09          p1   \n",
       "1  23_1920-01-05_p1_sn91066782_00415627932_192001...  1920-01-05          p1   \n",
       "2  16_1920-01-09_p1_sn86063730_00332894857_192001...  1920-01-09          p1   \n",
       "3  14_1920-01-24_p7_sn83025514_00340586384_192001...  1920-01-24          p7   \n",
       "4  40_1920-01-03_p4_sn83025458_00414217370_192001...  1920-01-03          p4   \n",
       "\n",
       "             Newspaper_name  \\\n",
       "0                       NaN   \n",
       "1                       NaN   \n",
       "2                       NaN   \n",
       "3   The Colorado statesman.   \n",
       "4  The daily morning oasis.   \n",
       "\n",
       "                                            Headline Author  \\\n",
       "0        Presbyterian ChurchDemobilizes Service Flag    NaN   \n",
       "1                    Lumber Exports VS.. Production.    NaN   \n",
       "2  WILSON AND BRYANfUIESSAGESSURPRISES OF JACKSON...    NaN   \n",
       "3                                                NaN    NaN   \n",
       "4                                                NaN    NaN   \n",
       "\n",
       "                                        Article_body  \\\n",
       "0  The services at the PresbyterianChurch Sunday ...   \n",
       "1  Only Al per, cent of the total lum.ber product...   \n",
       "2  with Germany. was thus disclosed asa fact, alt...   \n",
       "3  Apple Snow.-Pare and quarter tartapples. add b...   \n",
       "4  Mr.. A. Ybarra, counsel for theSouthern Pacifi...   \n",
       "\n",
       "                                          text_clean  \n",
       "0  service presbyterianchurch sunday evening full...  \n",
       "1  al per cent total production united stateswas ...  \n",
       "2  germany thus disclosed asa fact although rumor...  \n",
       "3  apple quarter tartapples add boiling water coo...  \n",
       "4  mr ybarra counsel thesouthern pacific mexico h...  "
      ]
     },
     "execution_count": 49,
     "metadata": {},
     "output_type": "execute_result"
    }
   ],
   "source": [
    "df.head()"
   ]
  },
  {
   "cell_type": "markdown",
   "id": "cbf588c2",
   "metadata": {},
   "source": [
    "## 训练词嵌入模型"
   ]
  },
  {
   "cell_type": "code",
   "execution_count": 51,
   "id": "1157ee72",
   "metadata": {},
   "outputs": [
    {
     "name": "stdout",
     "output_type": "stream",
     "text": [
      "['service', 'presbyterianchurch', 'sunday', 'evening', 'fulluf', 'patriotic', 'sentimentand', 'thoroughly', 'saturated', 'cremate', 'hidiousmonster', 'violence', 'hatredmas', 'usurped', 'part', 'nationalfreedom', 'institution', 'lieso', 'close', 'heart', 'mr', 'first', 'addressed', 'word', 'could', 'per', 'centamerican', 'listenrs', 'whomay', 'patriotically', 'lukewarm', 'appealed', 'way', 'mayhave', 'caused', 'think', 'afterall', 'precious', 'epithet', 'thatcould', 'applied', 'man', 'iais', 'real', 'american', 'allfriction', 'eradicated', 'ournational', 'life', 'authority', 'hasbeen', 'gained', 'faction', 'climbing', 'inthe', 'platform', 'misinterpreted', 'misguided', 'conclusionswill', 'restored', 'without', 'reluctanceto', 'unstained', 'hand', 'sofar', 'kept', 'u', 'light', 'freedom', 'ongstreth', 'also', 'called', 'unonto', 'speak', 'doctor', 'spoke', 'thestandpoint', 'soldier', 'revealedmany', 'instance', 'hardshinthat', 'undergone', 'soldiersin', 'france', 'talk', 'also', 'filmdwith', 'passinate', 'plea', 'radical', 'element', 'th', 'ihas', 'attempted', 'overturn', 'government', 'referring', 'note', 'saidttnat', 'new', 'service', 'flag', 'behoisted', 'old', 'flag', 'place', 'bearing', 'star', 'betasked', 'defending', 'enemy', 'within', 'borderslittle', 'stanley', 'babcock', 'lower', 'service', 'flag', 'flagbearing', 'fourteen', 'star', 'slowlylowered', 'national', 'anthem', 'wassung', 'rev', 'irwin', 'benediction']\n",
      "['al', 'per', 'cent', 'total', 'production', 'united', 'stateswas', 'exported', 'according', 'government', 'figure', 'provehow', 'unfounded', 'statement', 'made', 'forester', 'forest', 'drained', 'support', 'foreign', 'factorles', 'government', 'figuresgive', 'somewhat', 'lumber', 'exported', 'ont', 'production', 'export', 'foot', 'railroad', 'tie', 'quite', 'much', 'hewn', 'sawed', 'timberwhile', 'foot', 'theform', 'board', 'plank', 'dealsfigures', 'first', 'three', 'month', 'show', 'slight', 'increase', 'inyalue', 'lumber', 'export', 'themonthly', 'figure', 'last', 'half', 'april', 'nav', 'june', 'export', 'greater', 'increase', 'invalue', 'per', 'cent', 'theaverage', 'value', 'month', 'buteven', 'ii', 'entire', 'year', 'showsan', 'increase', 'per', 'cent', 'export', 'ofmerchandise', 'peak', 'julyfigures', 'per', 'cent', 'lower', 'buteven', 'extreme', 'thetotal', 'lumber', 'export', 'would', 'bey', 'foot', 'atotal', 'predicted', 'production', 'foot', 'equivalent', 'ofthe', 'state', 'largepart', 'exported', 'lumber', 'containsknots', 'contrary', 'report', 'weare', 'sending', 'abroad', 'cur', 'best', 'timber', 'ingrade', 'lumber', 'va', 'exported', 'formerry', 'airolans', 'construction', 'butaalrioiic', 'critic', 'exporting', 'wouid', 'cendrnn', 'ne', 'nationallumber', 'manufacturer', 'association']\n"
     ]
    }
   ],
   "source": [
    "# 准备训练语料库\n",
    "corpus = df['text_clean'].apply(lambda x: x.split(' ')).tolist()\n",
    "for item in corpus[:2]:\n",
    "    print(item)"
   ]
  },
  {
   "cell_type": "code",
   "execution_count": 56,
   "id": "6c8c9cbd",
   "metadata": {},
   "outputs": [],
   "source": [
    "# 训练\n",
    "model = Word2Vec(\n",
    "    corpus,    \n",
    "    window = 5,     \n",
    "    vector_size = 300,    \n",
    "    min_count = 1,     \n",
    "    epochs = 10\n",
    ")\n",
    "\n",
    "# 保存训练好的模型\n",
    "model.save('American_story_word2vec_ad.model')"
   ]
  },
  {
   "cell_type": "code",
   "execution_count": 57,
   "id": "915b87a7",
   "metadata": {},
   "outputs": [
    {
     "name": "stdout",
     "output_type": "stream",
     "text": [
      "[('oflife', 0.9560295939445496), ('severely', 0.9536592960357666), ('lookout', 0.9529877305030823), ('lung', 0.9510741829872131), ('rundown', 0.9504612684249878)]\n",
      "[('politician', 0.9625042080879211), ('regarded', 0.9594207406044006), ('propaganda', 0.9587284922599792), ('arise', 0.95802241563797), ('democracy', 0.9569937586784363)]\n"
     ]
    }
   ],
   "source": [
    "# 计算一个词在模型中与这个词最相近的词。\n",
    "most_similar_panic = model.wv.most_similar('panic', topn=5)\n",
    "most_similar_confidence = model.wv.most_similar('confidence', topn=5)\n",
    "print(most_similar_panic)\n",
    "print(most_similar_confidence)"
   ]
  },
  {
   "cell_type": "markdown",
   "id": "5291d043",
   "metadata": {},
   "source": [
    "## 可视化"
   ]
  },
  {
   "cell_type": "code",
   "execution_count": 58,
   "id": "d4c2db3e",
   "metadata": {},
   "outputs": [],
   "source": [
    "words = ['homicide', 'suicide', 'morality', 'economy']"
   ]
  },
  {
   "cell_type": "code",
   "execution_count": 59,
   "id": "1c46b0d8",
   "metadata": {},
   "outputs": [
    {
     "data": {
      "image/png": "[encoded data removed]",
      "text/plain": [
       "<Figure size 640x480 with 1 Axes>"
      ]
     },
     "metadata": {},
     "output_type": "display_data"
    }
   ],
   "source": [
    "# 可视化\n",
    "vectors = [model.wv[word] for word in words]\n",
    "\n",
    "# 使用PCA进行降维\n",
    "pca = PCA(n_components = 2)\n",
    "pca_result = pca.fit_transform(vectors)\n",
    "\n",
    "# 画图前准备，字体、负号处理以及画图窗口\n",
    "plt.rcParams['font.sans-serif'] = ['SimHei']\n",
    "plt.rcParams['axes.unicode_minus'] = False\n",
    "plt.figure()\n",
    "\n",
    "# 取PCA降维结果中所有行的第一列和第二列数据绘制散点图，设置点的大小为50\n",
    "plt.scatter(pca_result[:, 0], pca_result[:, 1], s = 50)\n",
    "\n",
    "# 注释\n",
    "for i, word in enumerate(words):\n",
    "    plt.annotate(word, (pca_result[i, 0], pca_result[i, 1]), fontsize = 10)\n",
    "\n",
    "plt.xlabel('PCA维度1', fontsize = 20)\n",
    "plt.ylabel('PCA维度2', fontsize = 20)\n",
    "plt.title('二维语义空间中词语的分布', fontsize = 20)\n",
    "plt.grid(True)\n",
    "plt.show()"
   ]
  },
  {
   "cell_type": "code",
   "execution_count": null,
   "id": "6b350dc6",
   "metadata": {},
   "outputs": [],
   "source": []
  }
 ],
 "metadata": {
  "kernelspec": {
   "display_name": "Python 3 (ipykernel)",
   "language": "python",
   "name": "python3"
  },
  "language_info": {
   "codemirror_mode": {
    "name": "ipython",
    "version": 3
   },
   "file_extension": ".py",
   "mimetype": "text/x-python",
   "name": "python",
   "nbconvert_exporter": "python",
   "pygments_lexer": "ipython3",
   "version": "3.9.13"
  },
  "toc": {
   "base_numbering": 1,
   "nav_menu": {},
   "number_sections": true,
   "sideBar": true,
   "skip_h1_title": false,
   "title_cell": "Table of Contents",
   "title_sidebar": "Contents",
   "toc_cell": false,
   "toc_position": {
    "height": "calc(100% - 180px)",
    "left": "10px",
    "top": "150px",
    "width": "256.1px"
   },
   "toc_section_display": true,
   "toc_window_display": true
  }
 },
 "nbformat": 4,
 "nbformat_minor": 5
}
